{
  "nbformat": 4,
  "nbformat_minor": 0,
  "metadata": {
    "kernelspec": {
      "display_name": "Python 3",
      "language": "python",
      "name": "python3"
    },
    "language_info": {
      "codemirror_mode": {
        "name": "ipython",
        "version": 3
      },
      "file_extension": ".py",
      "mimetype": "text/x-python",
      "name": "python",
      "nbconvert_exporter": "python",
      "pygments_lexer": "ipython3",
      "version": "3.6.8"
    },
    "colab": {
      "name": "NaverMovie-withoutModel.ipynb",
      "provenance": [],
      "collapsed_sections": []
    }
  },
  "cells": [
    {
      "cell_type": "code",
      "metadata": {
        "colab": {
          "base_uri": "https://localhost:8080/"
        },
        "id": "6wwcOsM_65Fy",
        "outputId": "fa150195-78b7-4cf6-dfe7-88bd1d175ed6"
      },
      "source": [
        "\n",
        "! pip install utils\n",
        "! pip install paramiko\n",
        "! pip install nltk"
      ],
      "execution_count": 1,
      "outputs": [
        {
          "output_type": "stream",
          "text": [
            "Collecting utils\n",
            "  Downloading https://files.pythonhosted.org/packages/55/e6/c2d2b2703e7debc8b501caae0e6f7ead148fd0faa3c8131292a599930029/utils-1.0.1-py2.py3-none-any.whl\n",
            "Installing collected packages: utils\n",
            "Successfully installed utils-1.0.1\n",
            "Collecting paramiko\n",
            "\u001b[?25l  Downloading https://files.pythonhosted.org/packages/95/19/124e9287b43e6ff3ebb9cdea3e5e8e88475a873c05ccdf8b7e20d2c4201e/paramiko-2.7.2-py2.py3-none-any.whl (206kB)\n",
            "\u001b[K     |████████████████████████████████| 215kB 4.1MB/s \n",
            "\u001b[?25hCollecting bcrypt>=3.1.3\n",
            "\u001b[?25l  Downloading https://files.pythonhosted.org/packages/26/70/6d218afbe4c73538053c1016dd631e8f25fffc10cd01f5c272d7acf3c03d/bcrypt-3.2.0-cp36-abi3-manylinux2010_x86_64.whl (63kB)\n",
            "\u001b[K     |████████████████████████████████| 71kB 9.0MB/s \n",
            "\u001b[?25hCollecting cryptography>=2.5\n",
            "\u001b[?25l  Downloading https://files.pythonhosted.org/packages/b2/26/7af637e6a7e87258b963f1731c5982fb31cd507f0d90d91836e446955d02/cryptography-3.4.7-cp36-abi3-manylinux2014_x86_64.whl (3.2MB)\n",
            "\u001b[K     |████████████████████████████████| 3.2MB 37.8MB/s \n",
            "\u001b[?25hCollecting pynacl>=1.0.1\n",
            "\u001b[?25l  Downloading https://files.pythonhosted.org/packages/9d/57/2f5e6226a674b2bcb6db531e8b383079b678df5b10cdaa610d6cf20d77ba/PyNaCl-1.4.0-cp35-abi3-manylinux1_x86_64.whl (961kB)\n",
            "\u001b[K     |████████████████████████████████| 962kB 39.0MB/s \n",
            "\u001b[?25hRequirement already satisfied: cffi>=1.1 in /usr/local/lib/python3.7/dist-packages (from bcrypt>=3.1.3->paramiko) (1.14.5)\n",
            "Requirement already satisfied: six>=1.4.1 in /usr/local/lib/python3.7/dist-packages (from bcrypt>=3.1.3->paramiko) (1.15.0)\n",
            "Requirement already satisfied: pycparser in /usr/local/lib/python3.7/dist-packages (from cffi>=1.1->bcrypt>=3.1.3->paramiko) (2.20)\n",
            "Installing collected packages: bcrypt, cryptography, pynacl, paramiko\n",
            "Successfully installed bcrypt-3.2.0 cryptography-3.4.7 paramiko-2.7.2 pynacl-1.4.0\n",
            "Requirement already satisfied: nltk in /usr/local/lib/python3.7/dist-packages (3.2.5)\n",
            "Requirement already satisfied: six in /usr/local/lib/python3.7/dist-packages (from nltk) (1.15.0)\n"
          ],
          "name": "stdout"
        }
      ]
    },
    {
      "cell_type": "code",
      "metadata": {
        "colab": {
          "base_uri": "https://localhost:8080/"
        },
        "id": "9IoLpgnc65F6",
        "outputId": "de31fff9-85c2-497c-d969-4d7adfbbda98"
      },
      "source": [
        "! pip  install konlpy"
      ],
      "execution_count": 2,
      "outputs": [
        {
          "output_type": "stream",
          "text": [
            "Collecting konlpy\n",
            "\u001b[?25l  Downloading https://files.pythonhosted.org/packages/85/0e/f385566fec837c0b83f216b2da65db9997b35dd675e107752005b7d392b1/konlpy-0.5.2-py2.py3-none-any.whl (19.4MB)\n",
            "\u001b[K     |████████████████████████████████| 19.4MB 6.5MB/s \n",
            "\u001b[?25hRequirement already satisfied: lxml>=4.1.0 in /usr/local/lib/python3.7/dist-packages (from konlpy) (4.2.6)\n",
            "Requirement already satisfied: numpy>=1.6 in /usr/local/lib/python3.7/dist-packages (from konlpy) (1.19.5)\n",
            "Requirement already satisfied: tweepy>=3.7.0 in /usr/local/lib/python3.7/dist-packages (from konlpy) (3.10.0)\n",
            "Collecting colorama\n",
            "  Downloading https://files.pythonhosted.org/packages/44/98/5b86278fbbf250d239ae0ecb724f8572af1c91f4a11edf4d36a206189440/colorama-0.4.4-py2.py3-none-any.whl\n",
            "Collecting JPype1>=0.7.0\n",
            "\u001b[?25l  Downloading https://files.pythonhosted.org/packages/cd/a5/9781e2ef4ca92d09912c4794642c1653aea7607f473e156cf4d423a881a1/JPype1-1.2.1-cp37-cp37m-manylinux2010_x86_64.whl (457kB)\n",
            "\u001b[K     |████████████████████████████████| 460kB 21.5MB/s \n",
            "\u001b[?25hCollecting beautifulsoup4==4.6.0\n",
            "\u001b[?25l  Downloading https://files.pythonhosted.org/packages/9e/d4/10f46e5cfac773e22707237bfcd51bbffeaf0a576b0a847ec7ab15bd7ace/beautifulsoup4-4.6.0-py3-none-any.whl (86kB)\n",
            "\u001b[K     |████████████████████████████████| 92kB 11.8MB/s \n",
            "\u001b[?25hRequirement already satisfied: six>=1.10.0 in /usr/local/lib/python3.7/dist-packages (from tweepy>=3.7.0->konlpy) (1.15.0)\n",
            "Requirement already satisfied: requests[socks]>=2.11.1 in /usr/local/lib/python3.7/dist-packages (from tweepy>=3.7.0->konlpy) (2.23.0)\n",
            "Requirement already satisfied: requests-oauthlib>=0.7.0 in /usr/local/lib/python3.7/dist-packages (from tweepy>=3.7.0->konlpy) (1.3.0)\n",
            "Requirement already satisfied: typing-extensions; python_version < \"3.8\" in /usr/local/lib/python3.7/dist-packages (from JPype1>=0.7.0->konlpy) (3.7.4.3)\n",
            "Requirement already satisfied: idna<3,>=2.5 in /usr/local/lib/python3.7/dist-packages (from requests[socks]>=2.11.1->tweepy>=3.7.0->konlpy) (2.10)\n",
            "Requirement already satisfied: urllib3!=1.25.0,!=1.25.1,<1.26,>=1.21.1 in /usr/local/lib/python3.7/dist-packages (from requests[socks]>=2.11.1->tweepy>=3.7.0->konlpy) (1.24.3)\n",
            "Requirement already satisfied: chardet<4,>=3.0.2 in /usr/local/lib/python3.7/dist-packages (from requests[socks]>=2.11.1->tweepy>=3.7.0->konlpy) (3.0.4)\n",
            "Requirement already satisfied: certifi>=2017.4.17 in /usr/local/lib/python3.7/dist-packages (from requests[socks]>=2.11.1->tweepy>=3.7.0->konlpy) (2020.12.5)\n",
            "Requirement already satisfied: PySocks!=1.5.7,>=1.5.6; extra == \"socks\" in /usr/local/lib/python3.7/dist-packages (from requests[socks]>=2.11.1->tweepy>=3.7.0->konlpy) (1.7.1)\n",
            "Requirement already satisfied: oauthlib>=3.0.0 in /usr/local/lib/python3.7/dist-packages (from requests-oauthlib>=0.7.0->tweepy>=3.7.0->konlpy) (3.1.0)\n",
            "Installing collected packages: colorama, JPype1, beautifulsoup4, konlpy\n",
            "  Found existing installation: beautifulsoup4 4.6.3\n",
            "    Uninstalling beautifulsoup4-4.6.3:\n",
            "      Successfully uninstalled beautifulsoup4-4.6.3\n",
            "Successfully installed JPype1-1.2.1 beautifulsoup4-4.6.0 colorama-0.4.4 konlpy-0.5.2\n"
          ],
          "name": "stdout"
        }
      ]
    },
    {
      "cell_type": "code",
      "metadata": {
        "colab": {
          "base_uri": "https://localhost:8080/"
        },
        "id": "m_6LIO0565F7",
        "outputId": "b0dddbb4-eb1e-4bcc-8564-6f17c18f8905"
      },
      "source": [
        "! pip install gensim"
      ],
      "execution_count": 3,
      "outputs": [
        {
          "output_type": "stream",
          "text": [
            "Requirement already satisfied: gensim in /usr/local/lib/python3.7/dist-packages (3.6.0)\n",
            "Requirement already satisfied: six>=1.5.0 in /usr/local/lib/python3.7/dist-packages (from gensim) (1.15.0)\n",
            "Requirement already satisfied: scipy>=0.18.1 in /usr/local/lib/python3.7/dist-packages (from gensim) (1.4.1)\n",
            "Requirement already satisfied: numpy>=1.11.3 in /usr/local/lib/python3.7/dist-packages (from gensim) (1.19.5)\n",
            "Requirement already satisfied: smart-open>=1.2.1 in /usr/local/lib/python3.7/dist-packages (from gensim) (5.0.0)\n"
          ],
          "name": "stdout"
        }
      ]
    },
    {
      "cell_type": "code",
      "metadata": {
        "colab": {
          "base_uri": "https://localhost:8080/"
        },
        "id": "K_owrp0G7k0X",
        "outputId": "b65ffe07-774e-4a67-cc02-51bc86ddc32a"
      },
      "source": [
        "! wget --load-cookies /tmp/cookies.txt \"https://docs.google.com/uc?export=download&confirm=$(wget --quiet --save-cookies /tmp/cookies.txt --keep-session-cookies --no-check-certificate 'https://docs.google.com/uc?export=download&id=1pB98oL46qBz_Y33qsXfQ94YjVe_YRWfU' -O- | sed -rn 's/.*confirm=([0-9A-Za-z_]+).*/\\1\\n/p')&id=1pB98oL46qBz_Y33qsXfQ94YjVe_YRWfU\" -O ratings_train.txt && rm -rf /tmp/cookies.txt\n",
        "#https://drive.google.com/file/d/1pB98oL46qBz_Y33qsXfQ94YjVe_YRWfU/view?usp=sharing"
      ],
      "execution_count": 4,
      "outputs": [
        {
          "output_type": "stream",
          "text": [
            "--2021-05-12 15:48:17--  https://docs.google.com/uc?export=download&confirm=&id=1pB98oL46qBz_Y33qsXfQ94YjVe_YRWfU\n",
            "Resolving docs.google.com (docs.google.com)... 74.125.203.139, 74.125.203.113, 74.125.203.102, ...\n",
            "Connecting to docs.google.com (docs.google.com)|74.125.203.139|:443... connected.\n",
            "HTTP request sent, awaiting response... 302 Moved Temporarily\n",
            "Location: https://doc-0o-2c-docs.googleusercontent.com/docs/securesc/d3bps8ne3r9r7ks8hin2im83thegse2v/73asdd0iad7jr4u6vparu2iqjrn2cqie/1620834450000/04591858293269658552/02800522349867326429Z/1pB98oL46qBz_Y33qsXfQ94YjVe_YRWfU?e=download [following]\n",
            "--2021-05-12 15:48:17--  https://doc-0o-2c-docs.googleusercontent.com/docs/securesc/d3bps8ne3r9r7ks8hin2im83thegse2v/73asdd0iad7jr4u6vparu2iqjrn2cqie/1620834450000/04591858293269658552/02800522349867326429Z/1pB98oL46qBz_Y33qsXfQ94YjVe_YRWfU?e=download\n",
            "Resolving doc-0o-2c-docs.googleusercontent.com (doc-0o-2c-docs.googleusercontent.com)... 74.125.203.132, 2404:6800:4008:c03::84\n",
            "Connecting to doc-0o-2c-docs.googleusercontent.com (doc-0o-2c-docs.googleusercontent.com)|74.125.203.132|:443... connected.\n",
            "HTTP request sent, awaiting response... 302 Found\n",
            "Location: https://docs.google.com/nonceSigner?nonce=37v9lt4f6vnqc&continue=https://doc-0o-2c-docs.googleusercontent.com/docs/securesc/d3bps8ne3r9r7ks8hin2im83thegse2v/73asdd0iad7jr4u6vparu2iqjrn2cqie/1620834450000/04591858293269658552/02800522349867326429Z/1pB98oL46qBz_Y33qsXfQ94YjVe_YRWfU?e%3Ddownload&hash=uv910iv1ou0hgr0p36vpaar7kki41irj [following]\n",
            "--2021-05-12 15:48:17--  https://docs.google.com/nonceSigner?nonce=37v9lt4f6vnqc&continue=https://doc-0o-2c-docs.googleusercontent.com/docs/securesc/d3bps8ne3r9r7ks8hin2im83thegse2v/73asdd0iad7jr4u6vparu2iqjrn2cqie/1620834450000/04591858293269658552/02800522349867326429Z/1pB98oL46qBz_Y33qsXfQ94YjVe_YRWfU?e%3Ddownload&hash=uv910iv1ou0hgr0p36vpaar7kki41irj\n",
            "Connecting to docs.google.com (docs.google.com)|74.125.203.139|:443... connected.\n",
            "HTTP request sent, awaiting response... 302 Found\n",
            "Location: https://doc-0o-2c-docs.googleusercontent.com/docs/securesc/d3bps8ne3r9r7ks8hin2im83thegse2v/73asdd0iad7jr4u6vparu2iqjrn2cqie/1620834450000/04591858293269658552/02800522349867326429Z/1pB98oL46qBz_Y33qsXfQ94YjVe_YRWfU?e=download&nonce=37v9lt4f6vnqc&user=02800522349867326429Z&hash=gao48oi0mqrt8jtlr7uo6kt4bemau892 [following]\n",
            "--2021-05-12 15:48:18--  https://doc-0o-2c-docs.googleusercontent.com/docs/securesc/d3bps8ne3r9r7ks8hin2im83thegse2v/73asdd0iad7jr4u6vparu2iqjrn2cqie/1620834450000/04591858293269658552/02800522349867326429Z/1pB98oL46qBz_Y33qsXfQ94YjVe_YRWfU?e=download&nonce=37v9lt4f6vnqc&user=02800522349867326429Z&hash=gao48oi0mqrt8jtlr7uo6kt4bemau892\n",
            "Connecting to doc-0o-2c-docs.googleusercontent.com (doc-0o-2c-docs.googleusercontent.com)|74.125.203.132|:443... connected.\n",
            "HTTP request sent, awaiting response... 200 OK\n",
            "Length: unspecified [text/plain]\n",
            "Saving to: ‘ratings_train.txt’\n",
            "\n",
            "ratings_train.txt       [ <=>                ]  13.95M  --.-KB/s    in 0.1s    \n",
            "\n",
            "2021-05-12 15:48:18 (103 MB/s) - ‘ratings_train.txt’ saved [14628807]\n",
            "\n"
          ],
          "name": "stdout"
        }
      ]
    },
    {
      "cell_type": "code",
      "metadata": {
        "colab": {
          "base_uri": "https://localhost:8080/"
        },
        "id": "NX1iG1Th65F7",
        "outputId": "bf6e1078-7db7-4f3a-98ae-136571f71693"
      },
      "source": [
        " import csv\n",
        " from konlpy.tag import Okt\n",
        " from gensim.models import word2vec\n",
        " import time\n",
        "\n",
        " #네이버 영화 코퍼스를 읽는다.\n",
        " f = open('ratings_train.txt', 'r', encoding='utf-8')\n",
        " rdr = csv.reader(f, delimiter='\\t')\n",
        " rdw = list(rdr)\n",
        " f.close()\n",
        "\n",
        " #트위터 형태소 분석기를 로드한다. Twiter가 KoNLPy v0.4.5 부터 Okt로 변경 되었다.\n",
        " twitter = Okt()\n",
        "print(\"Okt done\")\n",
        "\n",
        "start = time.time()\n",
        "print(\"형태소 분석 시작\")\n",
        "\n",
        " #텍스트를 한줄씩 처리합니다.\n",
        " result = []\n",
        " for line in rdw:\n",
        "     #형태소 분석하기, 단어 기본형 사용\n",
        "     malist = twitter.pos( line[1], norm=True, stem=True)\n",
        "     r = []\n",
        "     for word in malist:\n",
        "         #Josa”, “Eomi”, “'Punctuation” 는 제외하고 처리\n",
        "         if not word[1] in [\"Josa\",\"Eomi\",\"Punctuation\"]:\n",
        "             r.append(word[0])\n",
        "     #형태소 사이에 공백 \" \"  을 넣습니다. 그리고 양쪽 공백을 지웁니다.\n",
        "     rl = (\" \".join(r)).strip()\n",
        "     result.append(rl)\n",
        "     #print(rl)\n",
        "end = time.time()         \n",
        "print(\"형태소 분석 완료\")\n",
        "print(end - start, ' 초 결렸습니다')\n",
        "\n",
        " #형태소들을 별도의 파일로 저장 합니다.\n",
        " with open(\"NaverMovie.nlp\",'w', encoding='utf-8') as fp:\n",
        "     fp.write(\"\\n\".join(result))\n",
        "\n",
        " #Word2Vec 모델 만들기\n",
        " wData = word2vec.LineSentence(\"NaverMovie.nlp\")\n",
        "\n",
        "# 트레이닝 시간 측정 \n",
        "start = time.time()\n",
        "print(\"트레이닝 시작\")\n",
        " wModel =word2vec.Word2Vec(wData, size=200, window=10, hs=1, min_count=2, sg=1)\n",
        " wModel.save(\"NaverMovie.model\")\n",
        " print(\"Word2Vec 모델링 완료\")\n",
        "end = time.time()\n",
        "print(end - start, ' 초 결렸습니다') "
      ],
      "execution_count": 5,
      "outputs": [
        {
          "output_type": "stream",
          "text": [
            "Okt done\n",
            "형태소 분석 시작\n",
            "형태소 분석 완료\n",
            "624.1254096031189  초 결렸습니다\n",
            "트레이닝 시작\n",
            "Word2Vec 모델링 완료\n",
            "121.49064874649048  초 결렸습니다\n"
          ],
          "name": "stdout"
        }
      ]
    },
    {
      "cell_type": "code",
      "metadata": {
        "colab": {
          "base_uri": "https://localhost:8080/"
        },
        "id": "CPO-XaOm65F9",
        "outputId": "7f8f83c3-f70b-4242-d176-7f3e9dfde27a"
      },
      "source": [
        "! ls -l"
      ],
      "execution_count": 6,
      "outputs": [
        {
          "output_type": "stream",
          "text": [
            "total 123512\n",
            "-rw-r--r-- 1 root root 100307219 May 12 16:00 NaverMovie.model\n",
            "-rw-r--r-- 1 root root  11528154 May 12 15:58 NaverMovie.nlp\n",
            "-rw-r--r-- 1 root root  14628807 May 12 15:48 ratings_train.txt\n",
            "drwxr-xr-x 1 root root      4096 May  6 13:44 sample_data\n"
          ],
          "name": "stdout"
        }
      ]
    },
    {
      "cell_type": "code",
      "metadata": {
        "colab": {
          "base_uri": "https://localhost:8080/"
        },
        "id": "y0h_48Td65F9",
        "outputId": "7b340d31-72e0-42eb-ddd1-fa4101013ccc"
      },
      "source": [
        "model = word2vec.Word2Vec.load(\"NaverMovie.model\")\n",
        "print(model.wv.most_similar(positive=[\"최고\"]))"
      ],
      "execution_count": 7,
      "outputs": [
        {
          "output_type": "stream",
          "text": [
            "[('꼽는', 0.7082093954086304), ('최고다', 0.6902737021446228), ('꼽을', 0.6870437860488892), ('단연', 0.6837621927261353), ('으뜸', 0.6727610230445862), ('정치드라마', 0.6712560653686523), ('ER', 0.6692401766777039), ('가금', 0.6597132682800293), ('하이스쿨', 0.6516490578651428), ('러브라이브', 0.6383671164512634)]\n"
          ],
          "name": "stdout"
        }
      ]
    }
  ]
}