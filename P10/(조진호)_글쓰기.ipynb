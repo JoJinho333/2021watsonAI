{
  "nbformat": 4,
  "nbformat_minor": 0,
  "metadata": {
    "accelerator": "GPU",
    "colab": {
      "name": "wordGen-Colab-gpu.ipynb",
      "provenance": [],
      "collapsed_sections": []
    },
    "kernelspec": {
      "display_name": "Python 3",
      "name": "python3"
    }
  },
  "cells": [
    {
      "cell_type": "code",
      "metadata": {
        "id": "LazMJ61LlnOS"
      },
      "source": [
        "from __future__ import print_function\n",
        "import json\n",
        "from keras.models import Sequential\n",
        "from keras.layers import Dense, Activation\n",
        "from keras.layers import LSTM\n",
        "from keras.optimizers import Adam\n",
        "from keras.utils.data_utils import get_file\n",
        "import numpy as np\n",
        "import random\n",
        "import sys\n",
        "import tensorflow as tf"
      ],
      "execution_count": 8,
      "outputs": []
    },
    {
      "cell_type": "code",
      "metadata": {
        "id": "aiFiVMFIozHn"
      },
      "source": [
        "%%capture\n",
        "! wget --no-check-certificate 'https://docs.google.com/uc?export=download&id=1m5rdL_vkZr7JCo_-8g4v9fh2jfU-sX-A' -O yelp_100_3.txt\n",
        "! wget --no-check-certificate 'https://docs.google.com/uc?export=download&id=1qfMZCaANhTR6b1NM4jXGNQQP5Z3eSyq8' -O indices_char.txt\n",
        "! wget --no-check-certificate 'https://docs.google.com/uc?export=download&id=1a1CVCwKQWxyHBpTR3sVgsf7eRtZHjUqx' -O char_indices.txt\n",
        "! wget --no-check-certificate 'https://docs.google.com/uc?export=download&id=1MZEUyaqT48D858zwEVzlTfjgXJvmY-BI' -O transfer_weights"
      ],
      "execution_count": 9,
      "outputs": []
    },
    {
      "cell_type": "code",
      "metadata": {
        "colab": {
          "base_uri": "https://localhost:8080/"
        },
        "id": "Tc0xeVf2mPXt",
        "outputId": "394de83c-7e8b-43c0-8540-25276b45ece5"
      },
      "source": [
        "!ls -l"
      ],
      "execution_count": 10,
      "outputs": [
        {
          "output_type": "stream",
          "text": [
            "total 29896\n",
            "-rw-r--r-- 1 root root      541 May 11 15:17 char_indices.txt\n",
            "-rw-r--r-- 1 root root      663 May 11 15:17 indices_char.txt\n",
            "drwxr-xr-x 1 root root     4096 May  6 13:44 sample_data\n",
            "-rw-r--r-- 1 root root 30524436 May 11 15:17 transfer_weights\n",
            "-rw-r--r-- 1 root root    71250 May 11 15:17 yelp_100_3.txt\n"
          ],
          "name": "stdout"
        }
      ]
    },
    {
      "cell_type": "code",
      "metadata": {
        "colab": {
          "base_uri": "https://localhost:8080/"
        },
        "id": "cu1t1VSrmTwz",
        "outputId": "86ee326b-8283-4c53-dc30-90ae5779b0d8"
      },
      "source": [
        "path = 'yelp_100_3.txt'\n",
        "text = open(path).read().lower()\n",
        "print('corpus length:', len(text))\n",
        "\n",
        "char_indices = json.loads(open('char_indices.txt').read())\n",
        "indices_char = json.loads(open('indices_char.txt').read())\n",
        "chars = sorted(char_indices.keys())\n",
        "print(indices_char)\n",
        "#chars = sorted(list(set(text)))\n",
        "print('total chars:', len(chars))\n",
        "#char_indices = dict((c, i) for i, c in enumerate(chars))\n",
        "#indices_char = dict((i, c) for i, c in enumerate(chars))\n",
        "\n",
        "# cut the text in semi-redundant sequences of maxlen characters\n",
        "maxlen = 256\n",
        "step = 3\n",
        "sentences = []\n",
        "next_chars = []\n",
        "for i in range(0, len(text) - maxlen, step):\n",
        "    sentences.append(text[i: i + maxlen])\n",
        "    next_chars.append(text[i + maxlen])\n",
        "print('nb sequences:', len(sentences))\n",
        "\n",
        "print('Vectorization...')\n",
        "X = np.zeros((len(sentences), maxlen, len(chars)), dtype=np.bool)\n",
        "y = np.zeros((len(sentences), len(chars)), dtype=np.bool)\n",
        "for i, sentence in enumerate(sentences):\n",
        "    for t, char in enumerate(sentence):\n",
        "        X[i, t, char_indices[char]] = 1\n",
        "    y[i, char_indices[next_chars[i]]] = 1\n",
        "\n",
        "\n"
      ],
      "execution_count": 11,
      "outputs": [
        {
          "output_type": "stream",
          "text": [
            "corpus length: 71250\n",
            "{'0': '\\n', '1': ' ', '2': '!', '3': '\"', '4': '#', '5': '$', '6': '%', '7': '&', '8': \"'\", '9': '(', '10': ')', '11': '*', '12': '+', '13': ',', '14': '-', '15': '.', '16': '/', '17': '0', '18': '1', '19': '2', '20': '3', '21': '4', '22': '5', '23': '6', '24': '7', '25': '8', '26': '9', '27': ':', '28': ';', '29': '=', '30': '?', '31': '[', '32': ']', '33': 'a', '34': 'b', '35': 'c', '36': 'd', '37': 'e', '38': 'f', '39': 'g', '40': 'h', '41': 'i', '42': 'j', '43': 'k', '44': 'l', '45': 'm', '46': 'n', '47': 'o', '48': 'p', '49': 'q', '50': 'r', '51': 's', '52': 't', '53': 'u', '54': 'v', '55': 'w', '56': 'x', '57': 'y', '58': 'z', '59': '{', '60': '}'}\n",
            "total chars: 61\n",
            "nb sequences: 23665\n",
            "Vectorization...\n"
          ],
          "name": "stdout"
        }
      ]
    },
    {
      "cell_type": "code",
      "metadata": {
        "colab": {
          "base_uri": "https://localhost:8080/"
        },
        "id": "Kk8heE1FyCgs",
        "outputId": "e7d4599b-8014-49cd-a2a4-b2ab50900cf3"
      },
      "source": [
        "\n",
        "# build the model: a single LSTM\n",
        "print('Build model...')\n",
        "model = Sequential()\n",
        "model.add(LSTM(1024, return_sequences=True, input_shape=(maxlen, len(chars))))\n",
        "model.add(LSTM(512, return_sequences=False))\n",
        "model.add(Dense(len(chars)))\n",
        "model.add(Activation('softmax'))\n",
        "optimizer = Adam(lr=0.002)\n",
        "model.compile(loss='categorical_crossentropy', optimizer=optimizer)"
      ],
      "execution_count": 12,
      "outputs": [
        {
          "output_type": "stream",
          "text": [
            "Build model...\n"
          ],
          "name": "stdout"
        }
      ]
    },
    {
      "cell_type": "code",
      "metadata": {
        "colab": {
          "base_uri": "https://localhost:8080/"
        },
        "id": "stQZjEGtx1DZ",
        "outputId": "de73e45d-8bb0-45dc-ba76-8d2047e66201"
      },
      "source": [
        "print(model.summary())"
      ],
      "execution_count": 13,
      "outputs": [
        {
          "output_type": "stream",
          "text": [
            "Model: \"sequential_1\"\n",
            "_________________________________________________________________\n",
            "Layer (type)                 Output Shape              Param #   \n",
            "=================================================================\n",
            "lstm_2 (LSTM)                (None, 256, 1024)         4448256   \n",
            "_________________________________________________________________\n",
            "lstm_3 (LSTM)                (None, 512)               3147776   \n",
            "_________________________________________________________________\n",
            "dense_1 (Dense)              (None, 61)                31293     \n",
            "_________________________________________________________________\n",
            "activation_1 (Activation)    (None, 61)                0         \n",
            "=================================================================\n",
            "Total params: 7,627,325\n",
            "Trainable params: 7,627,325\n",
            "Non-trainable params: 0\n",
            "_________________________________________________________________\n",
            "None\n"
          ],
          "name": "stdout"
        }
      ]
    },
    {
      "cell_type": "code",
      "metadata": {
        "colab": {
          "base_uri": "https://localhost:8080/"
        },
        "id": "Tbp_lVfN_Pos",
        "outputId": "510cf977-3f90-4b19-e575-325d7341e3d6"
      },
      "source": [
        "model.load_weights(\"transfer_weights\")\n",
        "print('model loaded...')\n",
        "def sample(preds, temperature=.6):\n",
        "    # helper function to sample an index from a probability array\n",
        "    preds = np.asarray(preds).astype('float64')\n",
        "    preds = np.log(preds) / temperature\n",
        "    exp_preds = np.exp(preds)\n",
        "    preds = exp_preds / np.sum(exp_preds)\n",
        "    probas = np.random.multinomial(1, preds, 1)\n",
        "    return np.argmax(probas)\n",
        "\n",
        "# train the model, output generated text after each iteration\n",
        "for iteration in range(1, 5):\n",
        "    print()\n",
        "    print('-' * 50)\n",
        "    print('Iteration', iteration)\n",
        "    x = np.zeros((1, maxlen, len(chars)))\n",
        "    preds = model.predict(x, verbose=0)[0]\n",
        "    \n",
        "    model.fit(X, y, batch_size=128, epochs=1)\n",
        "\n",
        "    start_index = random.randint(0, len(text) - maxlen - 1)\n",
        "    #start_index = char_indices[\"{\"]\n",
        "\n",
        "    for diversity in [0.2, 0.4, 0.6, 0.8]:\n",
        "        print()\n",
        "        print('----- diversity:', diversity)\n",
        "\n",
        "        generated = ''\n",
        "        sentence = text[start_index: start_index + maxlen]\n",
        "        generated += sentence\n",
        "        print('----- Generating with seed: \"' + sentence + '\"')\n",
        "        sys.stdout.write(generated)\n",
        "        for i in range(400):\n",
        "            x = np.zeros((1, maxlen, len(chars)))\n",
        "            for t, char in enumerate(sentence):\n",
        "                x[0, t, char_indices[char]] = 1.\n",
        "\n",
        "            preds = model.predict(x, verbose=0)[0]\n",
        "            next_index = sample(preds, diversity)\n",
        "            #print(next_index)\n",
        "            #print (indices_char)\n",
        "            next_char = indices_char[str(next_index)]\n",
        "\n",
        "            generated += next_char\n",
        "            sentence = sentence[1:] + next_char\n",
        "\n",
        "            sys.stdout.write(next_char)\n",
        "            sys.stdout.flush()\n",
        "        print()"
      ],
      "execution_count": 14,
      "outputs": [
        {
          "output_type": "stream",
          "text": [
            "model loaded...\n",
            "\n",
            "--------------------------------------------------\n",
            "Iteration 1\n",
            "185/185 [==============================] - 179s 950ms/step - loss: 1.4992\n",
            "\n",
            "----- diversity: 0.2\n",
            "----- Generating with seed: \"l day monday happy hour.  \n",
            "\n",
            "thank you tmi for the immediate bowl of water set down for my hound, the speedy $4 glass of red, and a yummy manageably-sized veg sandwich. i couldn't have asked for a better ending to this much dreaded monday. it was lovely win\"\n",
            "l day monday happy hour.  \n",
            "\n",
            "thank you tmi for the immediate bowl of water set down for my hound, the speedy $4 glass of red, and a yummy manageably-sized veg sandwich. i couldn't have asked for a better ending to this much dreaded monday. it was lovely wine was away the best friendly and the bar and the bar fast and then they were see the best it second the best the best place and the back and the bar of priced enjoyed the salad and the best the best say in the best start and then was some to give the was some server was also huge and had a beened that the comple sharly and there was soon and the back and i was away and the bar fash the best says i\n",
            "\n",
            "----- diversity: 0.4\n",
            "----- Generating with seed: \"l day monday happy hour.  \n",
            "\n",
            "thank you tmi for the immediate bowl of water set down for my hound, the speedy $4 glass of red, and a yummy manageably-sized veg sandwich. i couldn't have asked for a better ending to this much dreaded monday. it was lovely win\"\n",
            "l day monday happy hour.  \n",
            "\n",
            "thank you tmi for the immediate bowl of water set down for my hound, the speedy $4 glass of red, and a yummy manageably-sized veg sandwich. i couldn't have asked for a better ending to this much dreaded monday. it was lovely wine fold of the place and had the selfed a letture chili but it wasn't salad and the best it wasn't the chanding for a little of be and there are the cheese and a spread on a speed before the best been attentive food person for spot in a great selection of service was cheaple and the reli and hast the best the bar was great.  i was great.  i've been to the tomato much was very clonably the server wa\n",
            "\n",
            "----- diversity: 0.6\n",
            "----- Generating with seed: \"l day monday happy hour.  \n",
            "\n",
            "thank you tmi for the immediate bowl of water set down for my hound, the speedy $4 glass of red, and a yummy manageably-sized veg sandwich. i couldn't have asked for a better ending to this much dreaded monday. it was lovely win\"\n",
            "l day monday happy hour.  \n",
            "\n",
            "thank you tmi for the immediate bowl of water set down for my hound, the speedy $4 glass of red, and a yummy manageably-sized veg sandwich. i couldn't have asked for a better ending to this much dreaded monday. it was lovely wine are have a speelection and the best that are in the decor and looking be a speating on top in the best blave the best on the hast in for a belover of to dind of the place and then go back to a lot of sizeres and the best that was alleet dish and fresh anities and the place and a get up spice before to heart a serious of they were go bad inly comblasted or size.  i was great!}{bacouse the shopp t\n",
            "\n",
            "----- diversity: 0.8\n",
            "----- Generating with seed: \"l day monday happy hour.  \n",
            "\n",
            "thank you tmi for the immediate bowl of water set down for my hound, the speedy $4 glass of red, and a yummy manageably-sized veg sandwich. i couldn't have asked for a better ending to this much dreaded monday. it was lovely win\"\n",
            "l day monday happy hour.  \n",
            "\n",
            "thank you tmi for the immediate bowl of water set down for my hound, the speedy $4 glass of red, and a yummy manageably-sized veg sandwich. i couldn't have asked for a better ending to this much dreaded monday. it was lovely wind the but off meat wast glasselfed for a sure hes the barrown asd as in a carkating questy on ice ordinathe salsa.  i was a great coints and they were gefting the gold the best delivet"
          ],
          "name": "stdout"
        },
        {
          "output_type": "stream",
          "text": [
            "/usr/local/lib/python3.7/dist-packages/ipykernel_launcher.py:6: RuntimeWarning: divide by zero encountered in log\n",
            "  \n"
          ],
          "name": "stderr"
        },
        {
          "output_type": "stream",
          "text": [
            " salat, and here for spoc. you can this is a good that pretty bring polling special and be mush have have a sugaached? and a better, but if you can beans around the other incoune the only of their a salmad i did the \n",
            "\n",
            "--------------------------------------------------\n",
            "Iteration 2\n",
            "185/185 [==============================] - 176s 953ms/step - loss: 1.0462\n",
            "\n",
            "----- diversity: 0.2\n",
            "----- Generating with seed: \"wn and enjoying the sunset while other suckers waited in traffic.\n",
            "\n",
            "i second sarah g's enthusiasm for sophie's salad sans mozzarella. mmmm mmmm arthichoke. my next mission is the cash money sammie with house made cashew butter (wha?!) cabernet jelly and ban\"\n",
            "wn and enjoying the sunset while other suckers waited in traffic.\n",
            "\n",
            "i second sarah g's enthusiasm for sophie's salad sans mozzarella. mmmm mmmm arthichoke. my next mission is the cash money sammie with house made cashew butter (wha?!) cabernet jelly and banons and they love their reguing to served in a made their poor into a sure was the salad.  i thought their past in the sarm the salad and i and the server was soon.  it wasn't the salad.  i would have been and they were the chef was the salad there were served and the sarm spots ous the salad.  i was a little shopp than they had the sauce.  i would have had it was a little shopp than they have a g\n",
            "\n",
            "----- diversity: 0.4\n",
            "----- Generating with seed: \"wn and enjoying the sunset while other suckers waited in traffic.\n",
            "\n",
            "i second sarah g's enthusiasm for sophie's salad sans mozzarella. mmmm mmmm arthichoke. my next mission is the cash money sammie with house made cashew butter (wha?!) cabernet jelly and ban\"\n",
            "wn and enjoying the sunset while other suckers waited in traffic.\n",
            "\n",
            "i second sarah g's enthusiasm for sophie's salad sans mozzarella. mmmm mmmm arthichoke. my next mission is the cash money sammie with house made cashew butter (wha?!) cabernet jelly and ban and had a little too the recommend their papura and not served with salad and i was their pool of the best pippersticul and they had a but and work on the fries and they are the salad and we are the they had the sard the but when i dade were placed area how potato for the staff was their past in a little cook tood that i was their but i was amouite (pet in better than they were cooded to the chec\n",
            "\n",
            "----- diversity: 0.6\n",
            "----- Generating with seed: \"wn and enjoying the sunset while other suckers waited in traffic.\n",
            "\n",
            "i second sarah g's enthusiasm for sophie's salad sans mozzarella. mmmm mmmm arthichoke. my next mission is the cash money sammie with house made cashew butter (wha?!) cabernet jelly and ban\"\n",
            "wn and enjoying the sunset while other suckers waited in traffic.\n",
            "\n",
            "i second sarah g's enthusiasm for sophie's salad sans mozzarella. mmmm mmmm arthichoke. my next mission is the cash money sammie with house made cashew butter (wha?!) cabernet jelly and bandarespegis.  i had to remusia reelpenix serica, and i loved the serves with a than where their food as their pooution. the checrss or shopp sauce. they chef inday after than came with the food was salad...aloood red soup to mother sauce.  i was the other peanuts. the pasurans i got the room and i was this place.  i found the they have a good for insided that she tasty on the next coffee served wit\n",
            "\n",
            "----- diversity: 0.8\n",
            "----- Generating with seed: \"wn and enjoying the sunset while other suckers waited in traffic.\n",
            "\n",
            "i second sarah g's enthusiasm for sophie's salad sans mozzarella. mmmm mmmm arthichoke. my next mission is the cash money sammie with house made cashew butter (wha?!) cabernet jelly and ban\"\n",
            "wn and enjoying the sunset while other suckers waited in traffic.\n",
            "\n",
            "i second sarah g's enthusiasm for sophie's salad sans mozzarella. mmmm mmmm arthichoke. my next mission is the cash money sammie with house made cashew butter (wha?!) cabernet jelly and banerana, so i apen any person pool out of the deared an the paratise as a busself are to mader poop people ind friendly, out of this place, another cool brick found their outside with a friend right. of combo is thai also here and be a foud food and when i do her didn't people peatios can't be read of the perare, but out that when i kad a should real of the food to a seafe pashom light blis for best\n",
            "\n",
            "--------------------------------------------------\n",
            "Iteration 3\n",
            "185/185 [==============================] - 176s 953ms/step - loss: 0.8203\n",
            "\n",
            "----- diversity: 0.2\n",
            "----- Generating with seed: \"ally whoever dude was that handed me my bag of food was all like zippy doo i gave you a cup of french fry sauce.. there were two orders of fries.. one cup of sauce.. which was just basic secret sauce.. not super great... secret sauce, to boot.. thanks bro,\"\n",
            "ally whoever dude was that handed me my bag of food was all like zippy doo i gave you a cup of french fry sauce.. there were two orders of fries.. one cup of sauce.. which was just basic secret sauce.. not super great... secret sauce, to boot.. thanks bro, it was a bit staff to stuffed in a trations to stuffed how thai combo explaintidget for the pork with cheese, be bre cooded to stop in bry great staff, and the food was sor bonly of the server with on a friday from the salad.  i loved the service is no walked a really liked that they were soon.  it was going to stuffed how the server with on a friday aw i am going to stuffed in a try the suck my \n",
            "\n",
            "----- diversity: 0.4\n",
            "----- Generating with seed: \"ally whoever dude was that handed me my bag of food was all like zippy doo i gave you a cup of french fry sauce.. there were two orders of fries.. one cup of sauce.. which was just basic secret sauce.. not super great... secret sauce, to boot.. thanks bro,\"\n",
            "ally whoever dude was that handed me my bag of food was all like zippy doo i gave you a cup of french fry sauce.. there were two orders of fries.. one cup of sauce.. which was just basic secret sauce.. not super great... secret sauce, to boot.. thanks bro, it was so i can have to take to give it would on a gears to remonl the pork of the best priced to the the server with the salsa to scoon and stuffed i with a little little think with cheese, le veld time to crowmbering and the good townes are served to get a blown of was i was out on the sides to shopping to menu a surd who is the server with out on the go. it's not sure which we was great!}{the \n",
            "\n",
            "----- diversity: 0.6\n",
            "----- Generating with seed: \"ally whoever dude was that handed me my bag of food was all like zippy doo i gave you a cup of french fry sauce.. there were two orders of fries.. one cup of sauce.. which was just basic secret sauce.. not super great... secret sauce, to boot.. thanks bro,\"\n",
            "ally whoever dude was that handed me my bag of food was all like zippy doo i gave you a cup of french fry sauce.. there were two orders of fries.. one cup of sauce.. which was just basic secret sauce.. not super great... secret sauce, to boot.. thanks bro, when i wain to the food was wers the restaurant was great....all the sooked to salad are probably the swrette to give it a visited retticeless than i was gottle food.  i saw a nice were ki spot. and give it would one of the ambiance. to this place? i llad the food is really given that was great....nottle i wishead in the mush pood to speak work on to go back and the chipfes with the the bowl of t\n",
            "\n",
            "----- diversity: 0.8\n",
            "----- Generating with seed: \"ally whoever dude was that handed me my bag of food was all like zippy doo i gave you a cup of french fry sauce.. there were two orders of fries.. one cup of sauce.. which was just basic secret sauce.. not super great... secret sauce, to boot.. thanks bro,\"\n",
            "ally whoever dude was that handed me my bag of food was all like zippy doo i gave you a cup of french fry sauce.. there were two orders of fries.. one cup of sauce.. which was just basic secret sauce.. not super great... secret sauce, to boot.. thanks bro, was too toly with were that is more gried was good. the basore served with got a great prices on a lideric. \"i was ever don't cape intide...\n",
            "\n",
            "home cambointion for $/)) which my with shopts are or somethion in a make never dis.  and the service was east factly enghing.... i've been a live.}{woods for the tempe are waited tot room would first also get some reasunatt. the service was not good. the i\n",
            "\n",
            "--------------------------------------------------\n",
            "Iteration 4\n",
            "185/185 [==============================] - 177s 954ms/step - loss: 0.6305\n",
            "\n",
            "----- diversity: 0.2\n",
            "----- Generating with seed: \"derful combination found i today of simple delightful food, a laid back atmosphere, warm staff, dog-friendly accommodations, a vegan-friendly menu and... oh yeah... all day monday happy hour.  \n",
            "\n",
            "thank you tmi for the immediate bowl of water set down for my\"\n",
            "derful combination found i today of simple delightful food, a laid back atmosphere, warm staff, dog-friendly accommodations, a vegan-friendly menu and... oh yeah... all day monday happy hour.  \n",
            "\n",
            "thank you tmi for the immediate bowl of water set down for my wall.  i was going to at worls new served with and the bar came was soon.  it was a girl was so y, a lot looks and they like the best of still not here is go to the than than than than than than than than than than they can't live all the taste and was sorns once as the bottood to me.  when i did not pet out the best of servicg was room.  the booth.  i don't think it's not sure the brubbers ithin\n",
            "\n",
            "----- diversity: 0.4\n",
            "----- Generating with seed: \"derful combination found i today of simple delightful food, a laid back atmosphere, warm staff, dog-friendly accommodations, a vegan-friendly menu and... oh yeah... all day monday happy hour.  \n",
            "\n",
            "thank you tmi for the immediate bowl of water set down for my\"\n",
            "derful combination found i today of simple delightful food, a laid back atmosphere, warm staff, dog-friendly accommodations, a vegan-friendly menu and... oh yeah... all day monday happy hour.  \n",
            "\n",
            "thank you tmi for the immediate bowl of water set down for my with a they stopped in basically chocolate far a like the wall.  i don't think it's that was a recazed on the best past in the molling ine sandwich was not special was potato.  i was awritat for me and spot..\n",
            "\n",
            "other complets to me.\n",
            " when i can he menu and were botl.  it was a little soot.}{this place, but all awe one of the coor salad gets of pesple sot to this place, got to think it's not sure t\n",
            "\n",
            "----- diversity: 0.6\n",
            "----- Generating with seed: \"derful combination found i today of simple delightful food, a laid back atmosphere, warm staff, dog-friendly accommodations, a vegan-friendly menu and... oh yeah... all day monday happy hour.  \n",
            "\n",
            "thank you tmi for the immediate bowl of water set down for my\"\n",
            "derful combination found i today of simple delightful food, a laid back atmosphere, warm staff, dog-friendly accommodations, a vegan-friendly menu and... oh yeah... all day monday happy hour.  \n",
            "\n",
            "thank you tmi for the immediate bowl of water set down for my limone chips was awesome.}{i can have a bit ressauce in am ittect to the porntall better.  the food as the molding and i don't live all the tain.  i don't think it's sweet places for the order hom top be a good pooling to order so it was away, i don't leinurely went to ge pook was prompous and the salcag selped with they was a good pool posply choose and hus all homesh simple don't jain the wints\n",
            "\n",
            "----- diversity: 0.8\n",
            "----- Generating with seed: \"derful combination found i today of simple delightful food, a laid back atmosphere, warm staff, dog-friendly accommodations, a vegan-friendly menu and... oh yeah... all day monday happy hour.  \n",
            "\n",
            "thank you tmi for the immediate bowl of water set down for my\"\n",
            "derful combination found i today of simple delightful food, a laid back atmosphere, warm staff, dog-friendly accommodations, a vegan-friendly menu and... oh yeah... all day monday happy hour.  \n",
            "\n",
            "thank you tmi for the immediate bowl of water set down for my plasome crup hod a new bottle places or sous. it's just one ssot amazing, and they have a great slice for me ere, and me uper, and be a good popus so you can have to try hones lecent...olosory, and i don't hare to coll bur than pointion mate was son on the next to love.  we think, so niget and the tack at the borls. service restaulart was good.  the but it was away, but the service was off, so i \n"
          ],
          "name": "stdout"
        }
      ]
    }
  ]
}